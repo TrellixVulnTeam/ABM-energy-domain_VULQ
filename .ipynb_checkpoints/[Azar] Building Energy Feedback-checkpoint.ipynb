{
 "cells": [
  {
   "cell_type": "code",
   "execution_count": 1,
   "metadata": {},
   "outputs": [],
   "source": [
    "%matplotlib inline \n",
    "import matplotlib.pyplot as plt\n",
    "plt.style.use('seaborn-whitegrid')\n",
    "import numpy as np"
   ]
  },
  {
   "cell_type": "code",
   "execution_count": 4,
   "metadata": {},
   "outputs": [
    {
     "name": "stdout",
     "output_type": "stream",
     "text": [
      "zacetni OECI 0.5\n",
      "Novi OECI 0.47500000000000003\n"
     ]
    }
   ],
   "source": [
    "#simple test \n",
    "\n",
    "oeciTest = 0.5\n",
    "fbrTest = 1\n",
    "suscTest = 0.1\n",
    "Ntest = 2\n",
    "sumOeciTest = oeciTest/Ntest\n",
    "\n",
    "#simple enacba\n",
    "newOeciTest = (1-fbrTest*suscTest)*oeciTest + fbrTest* suscTest * sumOeciTest\n",
    "\n",
    "print(\"zacetni OECI\", oeciTest)\n",
    "print(\"Novi OECI\", newOeciTest)\n"
   ]
  },
  {
   "cell_type": "code",
   "execution_count": 2,
   "metadata": {},
   "outputs": [],
   "source": [
    "#agent = OECI, susceptibility, FBR \n",
    "agent1 = [1, 0.5, 1]\n",
    "agent2 = [0, 0.5, 1]"
   ]
  },
  {
   "cell_type": "code",
   "execution_count": null,
   "metadata": {},
   "outputs": [],
   "source": []
  }
 ],
 "metadata": {
  "kernelspec": {
   "display_name": "Python 3",
   "language": "python",
   "name": "python3"
  },
  "language_info": {
   "codemirror_mode": {
    "name": "ipython",
    "version": 3
   },
   "file_extension": ".py",
   "mimetype": "text/x-python",
   "name": "python",
   "nbconvert_exporter": "python",
   "pygments_lexer": "ipython3",
   "version": "3.8.5"
  }
 },
 "nbformat": 4,
 "nbformat_minor": 4
}
