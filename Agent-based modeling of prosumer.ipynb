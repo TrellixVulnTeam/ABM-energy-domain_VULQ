{
  "cells":[
    {
      "cell_type":"markdown",
      "source":[
        "# Izdelava agentnega modela aktivnega odjemalca\n",
        "\n",
        "Najprej samo en odjemalec ki je dovzeten na zunanje vplive aka community cordinator.\n",
        "\n",
        "- Agent\n",
        "    - 24 urni urnik porabe\n",
        "        - Flexibile ali,\n",
        "        - FIxed\n",
        "    - Njegova utež, znak obnašanja -> Sprememba v fleksibilnost. (Ali je agent pripravljen premikati porabo)\n",
        "    - Susceptibility oz. dovzetnost na spremembe [Jensen 2015] ali influencability [Douw 2016]\n",
        "\n",
        "![](https:\/\/paper-attachments.dropbox.com\/s_9E1224E4993919A665319145380AED8FB8A0E410E7EAEB27191C31F34972CCD9_1618215920264_image.png)\n",
        "\n",
        "\n"
      ],
      "metadata":{
        
      }
    },
    {
      "cell_type":"code",
      "source":[
        "import pandas as pd\n",
        "import random\n",
        "import matplotlib.pyplot as plt\n",
        "plt.style.use('seaborn-whitegrid')"
      ],
      "execution_count":0,
      "outputs":[
        
      ],
      "metadata":{
        
      }
    },
    {
      "cell_type":"markdown",
      "source":[
        "# Uvoz podatkov"
      ],
      "metadata":{
        
      }
    },
    {
      "cell_type":"code",
      "source":[
        "#load schedhule and load data\n",
        "data = pd.read_excel(r'notebookData_flexiblestatic_load.xlsx')\n",
        "data = data.set_index('time')\n",
        "#store data in schedule dictionary key=hour, pair=type of load\n",
        "schedule = {}\n",
        "for index, row in data.iterrows():\n",
        "    schedule[index] = row['load']\n",
        "print(schedule)"
      ],
      "execution_count":0,
      "outputs":[
        {
          "name":"stdout",
          "text":[
            "{1: 'static', 2: 'static', 3: 'static', 4: 'static', 5: 'static', 6: 'static', 7: 'static', 8: 'static', 9: 'static', 10: 'static', 11: 'static', 12: 'static', 13: 'flexible', 14: 'flexible', 15: 'flexible', 16: 'flexible', 17: 'flexible', 18: 'flexible', 19: 'flexible', 20: 'flexible', 21: 'flexible', 22: 'flexible', 23: 'flexible', 24: 'flexible'}\n"
          ],
          "output_type":"stream"
        }
      ],
      "metadata":{
        
      }
    },
    {
      "cell_type":"markdown",
      "source":[
        "# Ustvari agente\n",
        "\n",
        "Funkcija za kreiranje agentov, ki vrne slovar agentov kjer je njihov id ključ, vrednosti pa predstavljajo urnik porabe in neka utež.\n",
        "\n",
        "#todos:\n",
        "- izdelava omrežja in povezav med agenti\n",
        "- dodajanje primernih in različnih uteži\n",
        "- dodajanje vrste consumerja\n",
        "- dodajanje moči povezave med agenti"
      ],
      "metadata":{
        
      }
    },
    {
      "cell_type":"code",
      "source":[
        "def create_agents(number_of_agents, schedule_data, flexibility, susceptibility):\n",
        "    agent_list = {}\n",
        "    while number_of_agents > 0: \n",
        "        agent = [schedule_data, flexibility, susceptibility]\n",
        "        agent_list[number_of_agents] = agent\n",
        "        number_of_agents -= 1\n",
        "    return agent_list \n",
        "\n",
        "#ustvari slovar agentov z nastavljenimi vrednostmi\n",
        "all_agents = create_agents(1,schedule,0.5,0.1)\n",
        "all_agents"
      ],
      "execution_count":0,
      "outputs":[
        {
          "data":{
            "text\/plain":[
              "{1: [{1: 'static',\n",
              "   2: 'static',\n",
              "   3: 'static',\n",
              "   4: 'static',\n",
              "   5: 'static',\n",
              "   6: 'static',\n",
              "   7: 'static',\n",
              "   8: 'static',\n",
              "   9: 'static',\n",
              "   10: 'static',\n",
              "   11: 'static',\n",
              "   12: 'static',\n",
              "   13: 'flexible',\n",
              "   14: 'flexible',\n",
              "   15: 'flexible',\n",
              "   16: 'flexible',\n",
              "   17: 'flexible',\n",
              "   18: 'flexible',\n",
              "   19: 'flexible',\n",
              "   20: 'flexible',\n",
              "   21: 'flexible',\n",
              "   22: 'flexible',\n",
              "   23: 'flexible',\n",
              "   24: 'flexible'},\n",
              "  0.5,\n",
              "  0.1]}"
            ]
          },
          "metadata":{
            
          },
          "output_type":"display_data"
        }
      ],
      "metadata":{
        
      }
    },
    {
      "cell_type":"markdown",
      "source":[
        "# Sprememba obnašanja\n",
        "\n",
        "Funkcija za spremembo obnašanja agenta. Zaenkrat pregleda vse agente, kasneje je smiselno omejiti samo na enega za večjo fleksibilnst. \n",
        "\n",
        "Glavna sprememba se dogaja s parametrom fleksibilnosti, ki se izračuna po enačbi za feedback efekt [Jensen 2015], ki dobro pnazori zunanji vpliv na agenta. \n",
        "\n",
        "![](https:\/\/paper-attachments.dropbox.com\/s_E6DE9BF2AA34A0A31A1F56F8C2F61B575F68978C991E079469C626C1C89ECF00_1594672402397_image.png)\n",
        "\n",
        "*Po enačbi se feedback efekt izračuna tako, da se gleda trenuten behaviour (βt) in se ga primerja z prejšnim obnašanjem (βt-1), ki pa se mu prišteje razlika med INCENTIVIZED behaviour in prejšnjim obnašanjem (βt-1), vse skupaj pa se spreminja z stopnjo susceptibilitya za feedback effect (Δβ)\n",
        "Incentivizied behaviour: Je obnašanje, ki ga spodbujamo, uporabnika skušamo motivirati proti tem obnašanju*"
      ],
      "metadata":{
        
      }
    },
    {
      "cell_type":"code",
      "source":[
        "def behaviour(agent_list, hour):\n",
        "    #preko vseh agentov\n",
        "    for agent in agent_list:\n",
        "        #nastavi fleksibilnost\n",
        "        flexibility = agent_list[agent][1]\n",
        "        #nastavi load \n",
        "        load = agent_list[agent][0][hour]\n",
        "        #goal flexibility -> Koliko želimo da agent postane flksibilen\n",
        "        goal_flexibility = 0.6\n",
        "        print('Fleksibilnost na zacetku: ', flexibility)\n",
        "        if load == 'static':\n",
        "            # če je load static naredi nekaj z utežjo\n",
        "            # priredba enačbe za izračun feedback efekta po Jensen, tako da posnamemo vpliv od zunaj\n",
        "            flexibility = flexibility + (goal_flexibility - flexibility)* agent_list[agent][2]\n",
        "            # update agent flexibility\n",
        "            agent_list[agent][1] = flexibility\n",
        "            if flexibility >= 0.6:\n",
        "               load = 'flexible'\n",
        "               agent_list[agent][0][hour] = load\n",
        "            print('Fleksibilnost na koncu: ', flexibility)\n",
        "            print('Trenutni load', load)\n",
        "    return agent_list\n",
        "\n",
        "behaviour(all_agents,1)\n",
        "all_agents"
      ],
      "execution_count":0,
      "outputs":[
        {
          "name":"stdout",
          "text":[
            "Fleksibilnost na zacetku:  0.5\n",
            "Fleksibilnost na koncu:  0.51\n",
            "Trenutni load static\n"
          ],
          "output_type":"stream"
        },
        {
          "data":{
            "text\/plain":[
              "{1: [{1: 'static',\n",
              "   2: 'static',\n",
              "   3: 'static',\n",
              "   4: 'static',\n",
              "   5: 'static',\n",
              "   6: 'static',\n",
              "   7: 'static',\n",
              "   8: 'static',\n",
              "   9: 'static',\n",
              "   10: 'static',\n",
              "   11: 'static',\n",
              "   12: 'static',\n",
              "   13: 'flexible',\n",
              "   14: 'flexible',\n",
              "   15: 'flexible',\n",
              "   16: 'flexible',\n",
              "   17: 'flexible',\n",
              "   18: 'flexible',\n",
              "   19: 'flexible',\n",
              "   20: 'flexible',\n",
              "   21: 'flexible',\n",
              "   22: 'flexible',\n",
              "   23: 'flexible',\n",
              "   24: 'flexible'},\n",
              "  0.51,\n",
              "  0.1]}"
            ]
          },
          "metadata":{
            
          },
          "output_type":"display_data"
        }
      ],
      "metadata":{
        
      }
    },
    {
      "cell_type":"markdown",
      "source":[
        "# Simulacija\n",
        "\n",
        "Simulacija naj bi se izvajala več dni, da bomo kasneje posnemali vplive med agenti skozi vsakodnevne interakcije. Zato je ključno, da se uredi števec, ki se sprehaja skozi ure dneva za primerjavo z urnikom porabe agentov. "
      ],
      "metadata":{
        
      }
    },
    {
      "cell_type":"code",
      "source":[
        "def simulation(days, agent_list):\n",
        "    # rabimo nek števec za ure ki predstavlja 1 dan\n",
        "    hours = days * 24\n",
        "    t = 0\n",
        "    time = 1\n",
        "    while days > 0:\n",
        "        while t < hours:     \n",
        "            print('day hour:', time)\n",
        "            behaviour(agent_list, time)\n",
        "            time +=1\n",
        "            t +=1 "
      ],
      "execution_count":0,
      "outputs":[
        
      ],
      "metadata":{
        
      }
    },
    {
      "cell_type":"code",
      "source":[
        "simulation(24, all_agents)"
      ],
      "execution_count":0,
      "outputs":[
        {
          "name":"stdout",
          "text":[
            "day hour: 1\n",
            "Fleksibilnost na zacetku:  0.51\n",
            "Fleksibilnost na koncu:  0.519\n",
            "Trenutni load static\n",
            "day hour: 2\n",
            "Fleksibilnost na zacetku:  0.519\n",
            "Fleksibilnost na koncu:  0.5271\n",
            "Trenutni load static\n",
            "day hour: 3\n",
            "Fleksibilnost na zacetku:  0.5271\n",
            "Fleksibilnost na koncu:  0.53439\n",
            "Trenutni load static\n",
            "day hour: 4\n",
            "Fleksibilnost na zacetku:  0.53439\n",
            "Fleksibilnost na koncu:  0.5409510000000001\n",
            "Trenutni load static\n",
            "day hour: 5\n",
            "Fleksibilnost na zacetku:  0.5409510000000001\n",
            "Fleksibilnost na koncu:  0.5468559000000001\n",
            "Trenutni load static\n",
            "day hour: 6\n",
            "Fleksibilnost na zacetku:  0.5468559000000001\n",
            "Fleksibilnost na koncu:  0.55217031\n",
            "Trenutni load static\n",
            "day hour: 7\n",
            "Fleksibilnost na zacetku:  0.55217031\n",
            "Fleksibilnost na koncu:  0.556953279\n",
            "Trenutni load static\n",
            "day hour: 8\n",
            "Fleksibilnost na zacetku:  0.556953279\n",
            "Fleksibilnost na koncu:  0.5612579511\n",
            "Trenutni load static\n",
            "day hour: 9\n",
            "Fleksibilnost na zacetku:  0.5612579511\n",
            "Fleksibilnost na koncu:  0.56513215599\n",
            "Trenutni load static\n",
            "day hour: 10\n",
            "Fleksibilnost na zacetku:  0.56513215599\n",
            "Fleksibilnost na koncu:  0.568618940391\n",
            "Trenutni load static\n",
            "day hour: 11\n",
            "Fleksibilnost na zacetku:  0.568618940391\n",
            "Fleksibilnost na koncu:  0.5717570463519001\n",
            "Trenutni load static\n",
            "day hour: 12\n",
            "Fleksibilnost na zacetku:  0.5717570463519001\n",
            "Fleksibilnost na koncu:  0.57458134171671\n",
            "Trenutni load static\n",
            "day hour: 13\n",
            "Fleksibilnost na zacetku:  0.57458134171671\n",
            "day hour: 14\n",
            "Fleksibilnost na zacetku:  0.57458134171671\n",
            "day hour: 15\n",
            "Fleksibilnost na zacetku:  0.57458134171671\n",
            "day hour: 16\n",
            "Fleksibilnost na zacetku:  0.57458134171671\n",
            "day hour: 17\n",
            "Fleksibilnost na zacetku:  0.57458134171671\n",
            "day hour: 18\n",
            "Fleksibilnost na zacetku:  0.57458134171671\n",
            "day hour: 19\n",
            "Fleksibilnost na zacetku:  0.57458134171671\n",
            "day hour: 20\n",
            "Fleksibilnost na zacetku:  0.57458134171671\n",
            "day hour: 21\n",
            "Fleksibilnost na zacetku:  0.57458134171671\n",
            "day hour: 22\n",
            "Fleksibilnost na zacetku:  0.57458134171671\n",
            "day hour: 23\n",
            "Fleksibilnost na zacetku:  0.57458134171671\n",
            "day hour: 24\n",
            "Fleksibilnost na zacetku:  0.57458134171671\n",
            "day hour: 25\n"
          ],
          "output_type":"stream"
        },
        {
          "ename":"KeyError",
          "evalue":"KeyError: 25",
          "traceback":[
            "\u001b[0;31m---------------------------------------------------------------------------",
            "Traceback (most recent call last)",
            "    at line 1 in <module>",
            "    at line 9 in simulation",
            "    at line 7 in behaviour",
            "KeyError: 25"
          ],
          "output_type":"error"
        }
      ],
      "metadata":{
        
      }
    },
    {
      "cell_type":"code",
      "source":[
        "#test\n",
        "dnevi = 4\n",
        "while dnevi > 0: \n",
        "    ure = 24\n",
        "    while ure > 0:\n",
        "        ure += 1\n",
        "        print(\"Ura: \", ure)\n",
        "        print(\"Dan: \", dnevi)\n",
        "    dnevi += 1\n"
      ],
      "execution_count":0,
      "outputs":[
        {
          "name":"stdout",
          "text":[
            "Ura:  23\n",
            "Dan:  4\n",
            "Ura:  22\n",
            "Dan:  4\n",
            "Ura:  21\n",
            "Dan:  4\n",
            "Ura:  20\n",
            "Dan:  4\n",
            "Ura:  19\n",
            "Dan:  4\n",
            "Ura:  18\n",
            "Dan:  4\n",
            "Ura:  17\n",
            "Dan:  4\n",
            "Ura:  16\n",
            "Dan:  4\n",
            "Ura:  15\n",
            "Dan:  4\n",
            "Ura:  14\n",
            "Dan:  4\n",
            "Ura:  13\n",
            "Dan:  4\n",
            "Ura:  12\n",
            "Dan:  4\n",
            "Ura:  11\n",
            "Dan:  4\n",
            "Ura:  10\n",
            "Dan:  4\n",
            "Ura:  9\n",
            "Dan:  4\n",
            "Ura:  8\n",
            "Dan:  4\n",
            "Ura:  7\n",
            "Dan:  4\n",
            "Ura:  6\n",
            "Dan:  4\n",
            "Ura:  5\n",
            "Dan:  4\n",
            "Ura:  4\n",
            "Dan:  4\n",
            "Ura:  3\n",
            "Dan:  4\n",
            "Ura:  2\n",
            "Dan:  4\n",
            "Ura:  1\n",
            "Dan:  4\n",
            "Ura:  0\n",
            "Dan:  4\n",
            "Ura:  23\n",
            "Dan:  3\n",
            "Ura:  22\n",
            "Dan:  3\n",
            "Ura:  21\n",
            "Dan:  3\n",
            "Ura:  20\n",
            "Dan:  3\n",
            "Ura:  19\n",
            "Dan:  3\n",
            "Ura:  18\n",
            "Dan:  3\n",
            "Ura:  17\n",
            "Dan:  3\n",
            "Ura:  16\n",
            "Dan:  3\n",
            "Ura:  15\n",
            "Dan:  3\n",
            "Ura:  14\n",
            "Dan:  3\n",
            "Ura:  13\n",
            "Dan:  3\n",
            "Ura:  12\n",
            "Dan:  3\n",
            "Ura:  11\n",
            "Dan:  3\n",
            "Ura:  10\n",
            "Dan:  3\n",
            "Ura:  9\n",
            "Dan:  3\n",
            "Ura:  8\n",
            "Dan:  3\n",
            "Ura:  7\n",
            "Dan:  3\n",
            "Ura:  6\n",
            "Dan:  3\n",
            "Ura:  5\n",
            "Dan:  3\n",
            "Ura:  4\n",
            "Dan:  3\n",
            "Ura:  3\n",
            "Dan:  3\n",
            "Ura:  2\n",
            "Dan:  3\n",
            "Ura:  1\n",
            "Dan:  3\n",
            "Ura:  0\n",
            "Dan:  3\n",
            "Ura:  23\n",
            "Dan:  2\n",
            "Ura:  22\n",
            "Dan:  2\n",
            "Ura:  21\n",
            "Dan:  2\n",
            "Ura:  20\n",
            "Dan:  2\n",
            "Ura:  19\n",
            "Dan:  2\n",
            "Ura:  18\n",
            "Dan:  2\n",
            "Ura:  17\n",
            "Dan:  2\n",
            "Ura:  16\n",
            "Dan:  2\n",
            "Ura:  15\n",
            "Dan:  2\n",
            "Ura:  14\n",
            "Dan:  2\n",
            "Ura:  13\n",
            "Dan:  2\n",
            "Ura:  12\n",
            "Dan:  2\n",
            "Ura:  11\n",
            "Dan:  2\n",
            "Ura:  10\n",
            "Dan:  2\n",
            "Ura:  9\n",
            "Dan:  2\n",
            "Ura:  8\n",
            "Dan:  2\n",
            "Ura:  7\n",
            "Dan:  2\n",
            "Ura:  6\n",
            "Dan:  2\n",
            "Ura:  5\n",
            "Dan:  2\n",
            "Ura:  4\n",
            "Dan:  2\n",
            "Ura:  3\n",
            "Dan:  2\n",
            "Ura:  2\n",
            "Dan:  2\n",
            "Ura:  1\n",
            "Dan:  2\n",
            "Ura:  0\n",
            "Dan:  2\n",
            "Ura:  23\n",
            "Dan:  1\n",
            "Ura:  22\n",
            "Dan:  1\n",
            "Ura:  21\n",
            "Dan:  1\n",
            "Ura:  20\n",
            "Dan:  1\n",
            "Ura:  19\n",
            "Dan:  1\n",
            "Ura:  18\n",
            "Dan:  1\n",
            "Ura:  17\n",
            "Dan:  1\n",
            "Ura:  16\n",
            "Dan:  1\n",
            "Ura:  15\n",
            "Dan:  1\n",
            "Ura:  14\n",
            "Dan:  1\n",
            "Ura:  13\n",
            "Dan:  1\n",
            "Ura:  12\n",
            "Dan:  1\n",
            "Ura:  11\n",
            "Dan:  1\n",
            "Ura:  10\n",
            "Dan:  1\n",
            "Ura:  9\n",
            "Dan:  1\n",
            "Ura:  8\n",
            "Dan:  1\n",
            "Ura:  7\n",
            "Dan:  1\n",
            "Ura:  6\n",
            "Dan:  1\n",
            "Ura:  5\n",
            "Dan:  1\n",
            "Ura:  4\n",
            "Dan:  1\n",
            "Ura:  3\n",
            "Dan:  1\n",
            "Ura:  2\n",
            "Dan:  1\n",
            "Ura:  1\n",
            "Dan:  1\n",
            "Ura:  0\n",
            "Dan:  1\n"
          ],
          "output_type":"stream"
        }
      ],
      "metadata":{
        
      }
    },
    {
      "cell_type":"code",
      "source":[
        
      ],
      "execution_count":0,
      "outputs":[
        
      ],
      "metadata":{
        
      }
    }
  ],
  "metadata":{
    
  },
  "nbformat":4,
  "nbformat_minor":0
}