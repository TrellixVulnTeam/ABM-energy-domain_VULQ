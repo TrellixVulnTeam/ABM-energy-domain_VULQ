{
 "cells": [
  {
   "cell_type": "markdown",
   "metadata": {},
   "source": [
    "# Reis 2018: Energy Transactions Between Energy Community Members: an Agent-Based Modeling Approach\n",
    "\n",
    "Dropbox paper link: https://www.dropbox.com/scl/fi/n7y210n2nw4adwt0z1661/MAG-Reis-2018-Energy-Transactions-Between-Energy-Community-Members-an-Agent-Based-Modeling-Approach.paper?dl=0&rlkey=kb1ahk6fb1epe3m9z5c67te03\n",
    "\n",
    "![](https://paper-attachments.dropbox.com/s_37085FABBCFF1589B459B503185C759DA5931ECE59C4B3CBA4398BF6CCBF020C_1592258495565_image.png)\n",
    "\n",
    "\n",
    "## Delovanje prosumerja\n",
    "1. Prosumer generira (MAX power of PV → 5kW peak, kapaciteta baterije 3kWh)\n",
    "2. PV generation odvisen od vremena, zato 3 vremenska stanja:\n",
    "    1. Sončen dan (Max moč) \n",
    "    2. Partly cloudy ( Polovična moč)\n",
    "    3. Rainy day (Brez moči)  \n",
    "3. Prosumer občutljiv na tarifo. Pet različnih cenovnih razredov (tabela ToU) → Zamika opravila glede na ceno. Njegova baterija se sproži, če je cena iz omrežja dražja kot establishan treshold. Se pravi, če shranjena energija no dovolj za prosumerja, se odloči ali sprejme energijo za ceno od ponudnika, ali prestavi opravilo na obdobje s cenejšo energijo (ampak samo pralni in pomivalni stroj v roku 36 ur)"
   ]
  },
  {
   "cell_type": "code",
   "execution_count": 8,
   "metadata": {},
   "outputs": [],
   "source": [
    "%matplotlib inline\n",
    "import matplotlib.pyplot as plt\n",
    "plt.style.use('seaborn-whitegrid')\n",
    "import numpy as np\n",
    "import pandas as pd"
   ]
  },
  {
   "cell_type": "markdown",
   "metadata": {},
   "source": [
    "### 1. Preprosta simulacija proizvodnje energije in porabe energije \n",
    "V prvi fazi sestavimo preprosto simulacijo proizvodnje in porabe električne energije za rok enega dneva, s pogojem če je vreme sončno. Proizvodnja energije je cel dan stalna z 10kW na uro, poraba energije pa poteka samo v drugi polovici dneva z velikostjo 5kW/h. V rezultatih vidimo prikaz stanja energije, ki jo prosumer trenutno ima. "
   ]
  },
  {
   "cell_type": "code",
   "execution_count": 9,
   "metadata": {},
   "outputs": [
    {
     "name": "stdout",
     "output_type": "stream",
     "text": [
      "Ura: 1 Kapaciteta prosumerja:  10 kW\n",
      "Ura: 2 Kapaciteta prosumerja:  20 kW\n",
      "Ura: 3 Kapaciteta prosumerja:  30 kW\n",
      "Ura: 4 Kapaciteta prosumerja:  40 kW\n",
      "Ura: 5 Kapaciteta prosumerja:  50 kW\n",
      "Ura: 6 Kapaciteta prosumerja:  60 kW\n",
      "Ura: 7 Kapaciteta prosumerja:  70 kW\n",
      "Ura: 8 Kapaciteta prosumerja:  80 kW\n",
      "Ura: 9 Kapaciteta prosumerja:  90 kW\n",
      "Ura: 10 Kapaciteta prosumerja:  100 kW\n",
      "Ura: 11 Kapaciteta prosumerja:  110 kW\n",
      "Ura: 12 Kapaciteta prosumerja:  115 kW\n",
      "Ura: 13 Kapaciteta prosumerja:  120 kW\n",
      "Ura: 14 Kapaciteta prosumerja:  125 kW\n",
      "Ura: 15 Kapaciteta prosumerja:  130 kW\n",
      "Ura: 16 Kapaciteta prosumerja:  135 kW\n",
      "Ura: 17 Kapaciteta prosumerja:  140 kW\n",
      "Ura: 18 Kapaciteta prosumerja:  145 kW\n",
      "Ura: 19 Kapaciteta prosumerja:  150 kW\n",
      "Ura: 20 Kapaciteta prosumerja:  155 kW\n",
      "Ura: 21 Kapaciteta prosumerja:  160 kW\n",
      "Ura: 22 Kapaciteta prosumerja:  165 kW\n",
      "Ura: 23 Kapaciteta prosumerja:  170 kW\n",
      "Ura: 24 Kapaciteta prosumerja:  175 kW\n"
     ]
    }
   ],
   "source": [
    "prosumerGeneration = 0 # začetna proizvodnja energije je 0 \n",
    "prosumerConsumption = 5 # poraba bo stalna za 5kw/h\n",
    "sunny = True\n",
    "\n",
    "t = 0  #24 ur \n",
    "while t < 24:\n",
    "    if sunny == True:\n",
    "        prosumerGeneration += 10 #vsako uro naredi 10kw če je sonce\n",
    "        t += 1\n",
    "    if t > 11:\n",
    "        prosumerGeneration = prosumerGeneration - prosumerConsumption\n",
    "        \n",
    "    print(\"Ura:\", t, \"Kapaciteta prosumerja: \",  prosumerGeneration, \"kW\")"
   ]
  },
  {
   "cell_type": "markdown",
   "metadata": {},
   "source": [
    "# 2. Dodajanje zunanjih inputov v obliki csv datoteke\n",
    "V naslednjem koraku se dodajo podatki v obliki csv datoteke. Za manipulacijo csv datotek uporabljamo knjižnico Pandas.\n",
    "Tabela je generirana ročno in vsebuje abstrakten profil proizvodnje in porabe električne energije v enem dnevu. \n",
    "\n",
    "Podatke najprej preberemo in shranimo v spremenljivko. V naslednjem koraku določimo stolpec z urami kot indeks tabele.\n",
    "Spodaj še izrišemo graf iz podatkov v tabeli."
   ]
  },
  {
   "cell_type": "code",
   "execution_count": 10,
   "metadata": {},
   "outputs": [
    {
     "data": {
      "text/plain": "Int64Index([ 1,  2,  3,  4,  5,  6,  7,  8,  9, 10, 11, 12, 13, 14, 15, 16, 17,\n            18, 19, 20, 21, 22, 23, 24],\n           dtype='int64', name='Time')"
     },
     "execution_count": 10,
     "metadata": {},
     "output_type": "execute_result"
    }
   ],
   "source": [
    "data = pd.read_csv('Data/ReisData1.csv')\n",
    "data = data.set_index('Time')\n",
    "data.head()\n",
    "data.index"
   ]
  },
  {
   "cell_type": "code",
   "execution_count": 11,
   "metadata": {},
   "outputs": [
    {
     "data": {
      "text/plain": "<Figure size 432x288 with 1 Axes>",
      "image/png": "[encoded data removed]"
     },
     "metadata": {},
     "output_type": "display_data"
    }
   ],
   "source": [
    "data[['Consumption','PV Generation']].plot(linewidth=0.5);"
   ]
  },
  {
   "cell_type": "markdown",
   "metadata": {},
   "source": [
    "Najprej ponovimo prejšnji primer simulacije s podatki iz tabele. Tokrat se za vsako uro podatki preberejo iz tabele in se med seboj primerno seštejejo oz. odštejejo. Potek nabiranja energije skozi dan simulacije izrišemo spodnjem grafu. "
   ]
  },
  {
   "cell_type": "code",
   "execution_count": 12,
   "metadata": {},
   "outputs": [
    {
     "name": "stdout",
     "output_type": "stream",
     "text": [
      "1 Storage:  10\n",
      "2 Storage:  20\n",
      "3 Storage:  30\n",
      "4 Storage:  40\n",
      "5 Storage:  50\n",
      "6 Storage:  60\n",
      "7 Storage:  70\n",
      "8 Storage:  80\n",
      "9 Storage:  90\n",
      "10 Storage:  100\n",
      "11 Storage:  110\n",
      "12 Storage:  115\n",
      "13 Storage:  120\n",
      "14 Storage:  125\n",
      "15 Storage:  130\n",
      "16 Storage:  135\n",
      "17 Storage:  140\n",
      "18 Storage:  145\n",
      "19 Storage:  150\n",
      "20 Storage:  155\n",
      "21 Storage:  160\n",
      "22 Storage:  165\n",
      "23 Storage:  170\n",
      "24 Storage:  175\n"
     ]
    },
    {
     "data": {
      "text/plain": "<BarContainer object of 24 artists>"
     },
     "execution_count": 12,
     "metadata": {},
     "output_type": "execute_result"
    },
    {
     "data": {
      "text/plain": "<Figure size 432x288 with 1 Axes>",
      "image/png": "[encoded data removed]"
     },
     "metadata": {},
     "output_type": "display_data"
    }
   ],
   "source": [
    "storage = 0\n",
    "storagePlt = []\n",
    "\n",
    "for index, row in data.iterrows():\n",
    "    generation = row['PV Generation']\n",
    "    consumption = row['Consumption']\n",
    "    \n",
    "    storage += row['PV Generation'] # v shrambo dodaj energijo trenutne proizvodnje\n",
    "   \n",
    "    if consumption > 0: # v primeru da se pojavi poraba iz shrambe odštej vrednost porabe \n",
    "        storage -= consumption\n",
    "        storagePlt.append(storage) # ob i-it uri dodaj vrednost shranjene energije v seznam\n",
    "    else:\n",
    "        storagePlt.append(storage)\n",
    "    print(index, \"Storage: \", storage)\n",
    "    \n",
    "plt.bar(data.index,storagePlt)  \n",
    "   "
   ]
  },
  {
   "cell_type": "markdown",
   "metadata": {},
   "source": [
    "# 3. Omejena velikost shrambe in prodaja energije omrežju\n",
    "V naslednjem koraku, se modelu doda omejitev energije, ki jo prosumer lahko shrani. V primeru viška energije, proda energijo v omrežje za nek dobiček. "
   ]
  },
  {
   "cell_type": "code",
   "execution_count": 13,
   "metadata": {},
   "outputs": [
    {
     "name": "stdout",
     "output_type": "stream",
     "text": [
      "Ostanek  10 Profit  5.0\n",
      "Ostanek  5 Profit  7.5\n",
      "Ostanek  5 Profit  10.0\n",
      "Ostanek  5 Profit  12.5\n",
      "Ostanek  5 Profit  15.0\n",
      "Ostanek  5 Profit  17.5\n",
      "Ostanek  5 Profit  20.0\n"
     ]
    },
    {
     "data": {
      "text/plain": "<Figure size 432x288 with 1 Axes>",
      "image/png": "[encoded data removed]"
     },
     "metadata": {},
     "output_type": "display_data"
    }
   ],
   "source": [
    "storage = 0\n",
    "storageCapacity = 100\n",
    "storagePlt = []\n",
    "profit = 0 \n",
    "\n",
    "for index, row in data.iterrows():\n",
    "    generation = row['PV Generation']\n",
    "    consumption = row['Consumption']\n",
    "    \n",
    "    if storage > storageCapacity:\n",
    "        ostanek = storage - storageCapacity\n",
    "        profit += ostanek* 0.5\n",
    "        print('Ostanek ', ostanek, 'Profit ', profit)\n",
    "    else:\n",
    "        storage += row['PV Generation']\n",
    "    \n",
    "    if consumption > 0:\n",
    "        storage -= consumption\n",
    "        storagePlt.append(storage)\n",
    "    else:\n",
    "        storagePlt.append(storage)  \n",
    "plt.bar(data.index,storagePlt)  \n",
    "\n",
    "PV = 5\n",
    "trenutnaPoraba = 9\n",
    "baterija = 0\n",
    "omrezje = 0\n",
    "\n",
    "ostanek = PV - trenutnaPoraba\n",
    "\n",
    "if ostanek > 0:\n",
    "    baterija = baterija + ostanek\n",
    "else: \n",
    "    omrezje = omrezje + ostanek"
   ]
  },
  {
   "cell_type": "markdown",
   "metadata": {},
   "source": [
    "Zgornji graf prikazuje polnjenje shrambe do meje pri 100kW"
   ]
  },
  {
   "cell_type": "code",
   "execution_count": 14,
   "metadata": {},
   "outputs": [],
   "source": [
    "#TODO: Preveri zakaj pri grafu gre energija čez željeno mejo\n",
    "#TODO: Kaj se zgodi če zmanjka energije in je še vedno zahteva? Dodaj dataset z večjo porabo in mehanizem, ki kupi dovolj energije iz omrežja po fiksni ceni\n",
    "#TODO: Dodaj še consumerja. V primeru viška energije prosumer proda energijo consumerju.\n"
   ]
  },
  {
   "cell_type": "raw",
   "metadata": {},
   "source": []
  }
 ],
 "metadata": {
  "kernelspec": {
   "display_name": "Python 3",
   "language": "python",
   "name": "python3"
  },
  "language_info": {
   "codemirror_mode": {
    "name": "ipython",
    "version": 3
   },
   "file_extension": ".py",
   "mimetype": "text/x-python",
   "name": "python",
   "nbconvert_exporter": "python",
   "pygments_lexer": "ipython3",
   "version": "3.8.5"
  }
 },
 "nbformat": 4,
 "nbformat_minor": 2
}